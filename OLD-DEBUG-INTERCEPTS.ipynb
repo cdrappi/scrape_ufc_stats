{
 "cells": [
  {
   "cell_type": "code",
   "execution_count": null,
   "id": "4408b1d4",
   "metadata": {},
   "outputs": [],
   "source": []
  },
  {
   "cell_type": "code",
   "execution_count": null,
   "id": "b46663f5",
   "metadata": {},
   "outputs": [],
   "source": []
  },
  {
   "cell_type": "code",
   "execution_count": null,
   "id": "9db493ce",
   "metadata": {},
   "outputs": [],
   "source": []
  },
  {
   "cell_type": "code",
   "execution_count": null,
   "id": "1dbd3ecd",
   "metadata": {},
   "outputs": [],
   "source": [
    "def _to_keys(key: str, values: Dict) -> Dict:\n",
    "    all_vals = {\n",
    "        f'{key}_int': values['intercept'],\n",
    "        f'{key}_lbs_z': values['lbs_z'],\n",
    "        f'{key}_att_log_n': values['logNthFightAtt'],\n",
    "        f'{key}_att_age_z': values['fighterAge_z'],\n",
    "        f'{key}_att_age_sq_z': values['fighterAgeSq_z'],\n",
    "    }\n",
    "    if key not in BINOMIAL_NODST_MODEL_TO_YPRED_N:\n",
    "        all_vals.update({\n",
    "            f'{key}_def_log_n': values['logNthFightDef'],\n",
    "            f'{key}_def_age_z': values['opponentAge_z'],\n",
    "            f'{key}_def_age_sq_z': values['opponentAgeSq_z'],\n",
    "        })\n",
    "    return {k: v for k, v in all_vals.items()}\n",
    "\n",
    "\n",
    "param_to_value = {\n",
    "    k: v\n",
    "    for key, values in params.items()\n",
    "    for k, v in _to_keys(key, values).items()\n",
    "}\n",
    "\n",
    "to_print = [\n",
    "    'ModelWeights {',\n",
    "    *[f'    {k}: {float(v)},' for k, v in param_to_value.items()],\n",
    "    '}'\n",
    "]\n",
    "print('\\n'.join(to_print))"
   ]
  },
  {
   "cell_type": "code",
   "execution_count": null,
   "id": "4524a1fa",
   "metadata": {},
   "outputs": [],
   "source": []
  },
  {
   "cell_type": "code",
   "execution_count": null,
   "id": "76292abb",
   "metadata": {},
   "outputs": [],
   "source": []
  },
  {
   "cell_type": "code",
   "execution_count": null,
   "id": "973bc2ef",
   "metadata": {},
   "outputs": [],
   "source": [
    "dc = Counter()\n",
    "new_params = load_params()\n",
    "for c in loc_cols:\n",
    "    cm = c.split('_')[0]\n",
    "    dc[cm] += means[c]\n",
    "for cm in dc:\n",
    "    new_params[cm]['intercept'] += dc[cm]\n",
    "# print(json.dumps(dc, indent=4))\n",
    "# print(json.dumps({m: {k: round(v,6) for k,v in p.items()} for m, p in new_params.items()}, indent=4))"
   ]
  },
  {
   "cell_type": "code",
   "execution_count": null,
   "id": "b213843b",
   "metadata": {},
   "outputs": [],
   "source": []
  },
  {
   "cell_type": "code",
   "execution_count": null,
   "id": "ef795211",
   "metadata": {},
   "outputs": [],
   "source": []
  },
  {
   "cell_type": "code",
   "execution_count": null,
   "id": "be2ba6e5",
   "metadata": {},
   "outputs": [],
   "source": []
  },
  {
   "cell_type": "code",
   "execution_count": null,
   "id": "7801a10a",
   "metadata": {},
   "outputs": [],
   "source": [
    "df = load_full_dataset()\n",
    "df = df[df['date'] > pandas.Timestamp('2011-11-19')]\n",
    "\n",
    "variables = sorted(\n",
    "    {\n",
    "        v\n",
    "        for vs in {\n",
    "            **BINOMIAL_MODELS,\n",
    "            **POISSON_MODEL_TO_YPRED_TIME,\n",
    "        }.values()\n",
    "        for v in vs\n",
    "    }\n",
    ")\n",
    "prior_values = df[variables].mean().to_dict()\n",
    "model_values = {}\n",
    "for model, (ypred, n) in BINOMIAL_MODELS.items():\n",
    "    model_values[model] = prior_values[ypred] / prior_values[n]\n",
    "for model, (ypred, xtime) in POISSON_MODEL_TO_YPRED_TIME.items():\n",
    "    model_values[model] = 60 * prior_values[ypred] / prior_values[xtime]\n",
    "    \n",
    "prior_pm = {p: 60 * v / prior_values['T'] for p, v in prior_values.items()}\n",
    "prior_pm\n",
    "\n",
    "prior_values['T'] / 60\n",
    "df.head()\n",
    "df[df['fighterId'] == 'f14cf73e51b29254'][['fightId', 'date', 'HL','SA','GBL', 'GBA', 'SBL','SBA','SHL','SHA']]"
   ]
  },
  {
   "cell_type": "code",
   "execution_count": null,
   "id": "d6806007",
   "metadata": {},
   "outputs": [],
   "source": []
  },
  {
   "cell_type": "code",
   "execution_count": null,
   "id": "70853cc4",
   "metadata": {},
   "outputs": [],
   "source": []
  },
  {
   "cell_type": "code",
   "execution_count": null,
   "id": "8e3cbe98",
   "metadata": {},
   "outputs": [],
   "source": []
  }
 ],
 "metadata": {
  "kernelspec": {
   "display_name": "Python 3 (ipykernel)",
   "language": "python",
   "name": "python3"
  },
  "language_info": {
   "codemirror_mode": {
    "name": "ipython",
    "version": 3
   },
   "file_extension": ".py",
   "mimetype": "text/x-python",
   "name": "python",
   "nbconvert_exporter": "python",
   "pygments_lexer": "ipython3",
   "version": "3.11.0"
  }
 },
 "nbformat": 4,
 "nbformat_minor": 5
}
